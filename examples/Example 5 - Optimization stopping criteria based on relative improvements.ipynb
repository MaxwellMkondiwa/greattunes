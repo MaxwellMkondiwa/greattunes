{
 "cells": [
  {
   "cell_type": "markdown",
   "metadata": {},
   "source": [
    "# Example 5: Stopping optimization based on relative improvements\n",
    "\n",
    "In this advanced example we show how to work with the convergence rate to increae the speed of reaching a solution  (fewer steps). During normal application, the `.auto` method will take a pre-specified number of iterations before stopping. Here, by monitoring the relative improvement in best guess for the maximum response, the algorithm is stopped when the relative improvement falls below a limit `rel_tol`. \n",
    "\n",
    "\n",
    "## Considerations for estimating convergence based on relative improvements\n",
    "\n",
    "Briefly, the Bayesian optimization approach used by this library works by iteratively making a model-driven guess of which data point to sample (determined by the *acquisition function*) and subsequently adjusting its understanding of the hidden function producing the response (the *surrogate model*, which is input to the acquisition function). At each iteration the framework stores the best response found across all sampling points (in the `best_response_value` attribute), but there is no guarantee that the response is better than at previous steps; in fact, it is not uncommon to find that the best response value plateaus for a few consecutive iterations before a sampling point is reached which improves it again.\n",
    "\n",
    "Using the relative improvement in best response to stop the iterations of the optimization, one needs to be mindful of this plateauing. This example illustrates how to use the framework to address this issue.\n",
    "\n",
    "\n",
    "## Problem solved in this notebook\n",
    "\n",
    "In this notebook we will illustrate how to use relative improvement by optimizing this known function \n",
    "\n",
    "$$\n",
    "f(x) = - (6x - 2)^2 \\sin{(12 x - 4 )}, \\quad x \\in [0; 1].\n",
    "$$\n",
    "\n",
    "It is known that the function above has its maximum at $x^* = 0.75725$ with a corresponding response of $f(x^*) = 6.02073$; the only covariate is $x$.\n",
    "\n",
    "We will solve it using the `.auto`-method in and apply conditions on the relative improvement and illustrate their impact on covergence for two different cases\n",
    "\n",
    "1. set the `rel_tol` argument to stop as soon as the relative improvement between two consecutive steps falls below the user-defined limit\n",
    "2. use `rel_tol_steps` argument together with `rel_tol` to require that the relative improvement must be below `rel_tol` for `rel_tol_steps` consecutive steps.\n",
    "\n",
    "\n",
    "## Technical note\n",
    "\n",
    "Installation of `torch` and `torchvision` (required dependencies) cannot be bundled as part of the `creative_project` installable. This is unfortunate, but a known issue it seems. Therefore these must be installed first, before installing `creative_project`."
   ]
  },
  {
   "cell_type": "code",
   "execution_count": null,
   "metadata": {},
   "outputs": [],
   "source": [
    "# Preamble\n",
    "\n",
    "# Install torch and torchvision. Use this link to identify the right versions to install on your system \n",
    "# depending on configuration: https://pytorch.org/get-started/locally/\n",
    "#\n",
    "#pip install torch==1.6.0+cpu torchvision==0.7.0+cpu -f https://download.pytorch.org/whl/torch_stable.html\n",
    "#\n",
    "# Install creative_project from github (will require authentication with password)\n",
    "#pip install --user https://github.com/svedel/kre8_core/"
   ]
  },
  {
   "cell_type": "code",
   "execution_count": null,
   "metadata": {},
   "outputs": [],
   "source": [
    "# import\n",
    "import numpy as np\n",
    "import pandas as pd\n",
    "import torch\n",
    "from creative_project import CreativeProject\n",
    "import matplotlib.pyplot as plt\n",
    "%matplotlib inline"
   ]
  },
  {
   "cell_type": "markdown",
   "metadata": {},
   "source": [
    "Define the function to optimize"
   ]
  },
  {
   "cell_type": "code",
   "execution_count": null,
   "metadata": {},
   "outputs": [],
   "source": [
    "def f(x):\n",
    "    covar0 = x[\"covar0\"].values\n",
    "    return -(6*covar0 - 2)**2*np.sin(12*covar0-4)\n",
    "\n",
    "x = pd.DataFrame({\"covar0\": np.linspace(0,1)})\n",
    "plt.figure(figsize=(8, 4))\n",
    "plt.plot(x[\"covar0\"], f(x))\n",
    "plt.show()"
   ]
  },
  {
   "cell_type": "markdown",
   "metadata": {},
   "source": [
    "Set up the problem"
   ]
  },
  {
   "cell_type": "code",
   "execution_count": null,
   "metadata": {},
   "outputs": [],
   "source": [
    "# range of the covariate 'x'\n",
    "x_exp = 0.5  # start point for x (a priori expectation)\n",
    "x_min = 0  # minimum allowed value of x\n",
    "x_max = 1  # maximum allowed value of x\n",
    "x_input=[(x_exp, x_min, x_max)]\n",
    "\n",
    "# relative importance limits for convergence\n",
    "rel_tol = 1e-10\n",
    "rel_tol_steps = 5\n",
    "\n",
    "# maximum number of iterations\n",
    "max_iter = 100"
   ]
  },
  {
   "cell_type": "markdown",
   "metadata": {},
   "source": [
    "## Solve using just `rel_tol`\n",
    "\n",
    "First solve the problem using only `rel_tol` limit, requiring only that the relative improvement limit `rel_tol` need to be satisfied for a single step"
   ]
  },
  {
   "cell_type": "code",
   "execution_count": null,
   "metadata": {},
   "outputs": [],
   "source": [
    "# initialize class instance\n",
    "cc = CreativeProject(covars=x_input, model=\"SingleTaskGP\")"
   ]
  },
  {
   "cell_type": "code",
   "execution_count": null,
   "metadata": {},
   "outputs": [],
   "source": [
    "# solve the problem\n",
    "cc.auto(response_samp_func=f, max_iter=max_iter, rel_tol=rel_tol)"
   ]
  },
  {
   "cell_type": "markdown",
   "metadata": {},
   "source": [
    "## Solve using `rel_tol` and `rel_tol_steps`\n",
    "\n",
    "Solve the same problem using both `rel_tol` and `rel_tol_steps` arguments to require that the relative importance limit is satisfied for `rel_tol_steps` before considering the solution as converged"
   ]
  },
  {
   "cell_type": "code",
   "execution_count": null,
   "metadata": {},
   "outputs": [],
   "source": [
    "# initialize class instance\n",
    "cc2 = CreativeProject(covars=x_input, model=\"SingleTaskGP\")"
   ]
  },
  {
   "cell_type": "code",
   "execution_count": null,
   "metadata": {},
   "outputs": [],
   "source": [
    "# solve the problem\n",
    "cc2.auto(response_samp_func=f, max_iter=max_iter, rel_tol=rel_tol, rel_tol_steps=rel_tol_steps)"
   ]
  },
  {
   "cell_type": "markdown",
   "metadata": {},
   "source": [
    "## Plot and compare solutions"
   ]
  },
  {
   "cell_type": "code",
   "execution_count": null,
   "metadata": {},
   "outputs": [],
   "source": [
    "# define helper function to calculate relative improvement at each solution step\n",
    "def relative_improvement(creative_class_instance):\n",
    "    \n",
    "    # compute the relative differences in response between consecutive iterations\n",
    "    tmp_array = torch.cat(\n",
    "            (creative_class_instance.best_response_value[0:-1], creative_class_instance.best_response_value[1:]),\n",
    "            dim=1).numpy()\n",
    "    tmp_rel_diff = np.diff(tmp_array, axis=1) / creative_class_instance.best_response_value[1:].numpy()\n",
    "    \n",
    "    return tmp_rel_diff"
   ]
  },
  {
   "cell_type": "code",
   "execution_count": null,
   "metadata": {},
   "outputs": [],
   "source": [
    "# calculate the relative differences\n",
    "rel_diff_cc = relative_improvement(cc)\n",
    "rel_diff_cc2 = relative_improvement(cc2)"
   ]
  },
  {
   "cell_type": "code",
   "execution_count": null,
   "metadata": {},
   "outputs": [],
   "source": [
    "# plot relative improvements\n",
    "fx, ax = plt.subplots(1, 2, figsize=(16, 4))\n",
    "ax1 = ax[0]\n",
    "ax2 = ax[1]\n",
    "\n",
    "# first panel: relative improvement\n",
    "ax1.plot(torch.arange(start=1, step=1, end=cc.best_response_value.shape[0]).numpy(), rel_diff_cc, \"*-b\", label=\"one-step relative tolerance limit\")\n",
    "ax1.plot(torch.arange(start=1, step=1, end=cc2.best_response_value.shape[0]).numpy(), rel_diff_cc2, \"g\", label= str(rel_tol_steps) + \"-step relative tolerance limit\")\n",
    "ax1.plot([1, cc2.best_response_value.shape[0]], [rel_tol, rel_tol], \"--k\", label=\"limit for convergence\")\n",
    "\n",
    "ax1.set_yscale('log')\n",
    "ax1.set_title(\"Maximum number of iterations: \" + str(max_iter))\n",
    "ax1.set_xlabel(\"Iteration $n$\")\n",
    "ax1.set_ylabel(\"Relative improvement between iterations $(y_n - y_{n-1})/y_n$\")\n",
    "ax1.legend()\n",
    "\n",
    "# second panel: best response\n",
    "ax2.plot(torch.arange(start=0, step=1, end=cc.best_response_value.shape[0]).numpy(), cc.best_response_value.numpy(), \"*-b\", label=\"one-step relative tolerance limit\")\n",
    "ax2.plot(torch.arange(start=0, step=1, end=cc2.best_response_value.shape[0]).numpy(), cc2.best_response_value.numpy(), \"g\", label= str(rel_tol_steps) + \"-step relative tolerance limit\")\n",
    "\n",
    "ax2.set_title(\"Maximum number of iterations: \" + str(max_iter))\n",
    "ax2.set_xlabel(\"Iteration $n$\")\n",
    "ax2.set_ylabel(\"Estimate of maximum value $y_n$ at iteration $n$\")\n",
    "ax2.legend()"
   ]
  },
  {
   "cell_type": "markdown",
   "metadata": {},
   "source": [
    "Notice that few number of iterations is required before reaching the convergence limit in the case where the limit only needs to be reached for at least one iteration (solution with one-step relative improvement tolerance limit, `cc` solution illustrated by blue above). Contrarily, the solution when requiring that the relative improvement limit is maintained for `rel_tol_steps` = 5 consecutive steps leads to better results (green line).\n",
    "\n",
    "In general, it is advised to require the relative improvement to be below the threshold for at least 3 consecutive steps for the solution to be trustworthy, i.e. set `rel_tol_steps` $\\geq 3$."
   ]
  },
  {
   "cell_type": "markdown",
   "metadata": {},
   "source": [
    "### Built-in plots of convergence\n",
    "\n",
    "A method to produce a convergence plot is also included with the framework. This illustrates the convergence for a single optimization task, as can be seen here"
   ]
  },
  {
   "cell_type": "code",
   "execution_count": null,
   "metadata": {},
   "outputs": [],
   "source": [
    "cc2.plot_convergence()"
   ]
  },
  {
   "cell_type": "markdown",
   "metadata": {},
   "source": [
    "And a method to illustrate the best objective values are also included"
   ]
  },
  {
   "cell_type": "code",
   "execution_count": null,
   "metadata": {},
   "outputs": [],
   "source": [
    "cc2.plot_best_objective()"
   ]
  },
  {
   "cell_type": "code",
   "execution_count": null,
   "metadata": {},
   "outputs": [],
   "source": []
  }
 ],
 "metadata": {
  "kernelspec": {
   "display_name": "Python 3",
   "language": "python",
   "name": "python3"
  },
  "language_info": {
   "codemirror_mode": {
    "name": "ipython",
    "version": 3
   },
   "file_extension": ".py",
   "mimetype": "text/x-python",
   "name": "python",
   "nbconvert_exporter": "python",
   "pygments_lexer": "ipython3",
   "version": "3.8.5"
  }
 },
 "nbformat": 4,
 "nbformat_minor": 2
}
