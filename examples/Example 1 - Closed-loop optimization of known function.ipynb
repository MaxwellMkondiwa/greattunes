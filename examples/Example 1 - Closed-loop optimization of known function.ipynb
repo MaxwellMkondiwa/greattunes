{
 "cells": [
  {
   "cell_type": "markdown",
   "metadata": {},
   "source": [
    "# Example 1: Closed-loop optimization of _known_ function\n",
    "\n",
    "In this notebook the framework is used to optimize a known function \n",
    "\n",
    "$$\n",
    "f(x) = - (6x - 2)^2 \\sin{(12 x - 4 )}, \\quad x \\in [0; 1].\n",
    "$$\n",
    "\n",
    "It is known that the function above has its maximum at $x^* = 0.75725$; the only covariate is $x$.\n",
    "\n",
    "\n",
    "## Framework approach\n",
    "\n",
    "With a known response function $f(x)$ the `.auto`-mode of the framework can be leveraged to find the optimum without involvement during the optimization process. This approach allows for closed-loop optimization and optimization of known functions.\n",
    "\n",
    "\n",
    "## Technical note\n",
    "\n",
    "Installation of `torch` and `torchvision` (required dependencies) cannot be bundled as part of the `creative_project` installable. This is unfortunate, but a known issue it seems. Therefore these must be installed first, before installing `creative_project`."
   ]
  },
  {
   "cell_type": "code",
   "execution_count": null,
   "metadata": {},
   "outputs": [],
   "source": [
    "# Preamble\n",
    "\n",
    "# Install torch and torchvision. Use this link to identify the right versions to install on your system \n",
    "# depending on configuration: https://pytorch.org/get-started/locally/\n",
    "#\n",
    "# pip install torch==1.6.0+cpu torchvision==0.7.0+cpu -f https://download.pytorch.org/whl/torch_stable.html\n",
    "\n",
    "# Install creative_project from github (will require authentication with password)\n",
    "# pip install --user https://github.com/svedel/kre8_core/"
   ]
  },
  {
   "cell_type": "code",
   "execution_count": null,
   "metadata": {},
   "outputs": [],
   "source": [
    "# import\n",
    "import numpy as np\n",
    "import pandas as pd\n",
    "import torch\n",
    "from creative_project import CreativeProject\n",
    "import matplotlib.pyplot as plt\n",
    "%matplotlib inline"
   ]
  },
  {
   "cell_type": "markdown",
   "metadata": {},
   "source": [
    "Define the function to optimize"
   ]
  },
  {
   "cell_type": "code",
   "execution_count": null,
   "metadata": {},
   "outputs": [],
   "source": [
    "# the function to be used in the optimization (taking a pandas data frame, grabbing last row)\n",
    "def f(x):\n",
    "    z = x[\"covar0\"].values\n",
    "    return -(6*z - 2)**2*np.sin(12*z-4)\n",
    "\n",
    "x = np.linspace(0,1)\n",
    "\n",
    "# a plot-friendly version of the objective function\n",
    "def plot_f(x):\n",
    "    output = f(pd.DataFrame({\"covar0\": x}))\n",
    "    return output\n",
    "\n",
    "plt.figure(figsize=(8, 4))\n",
    "plt.plot(x, plot_f(x))\n",
    "plt.show()"
   ]
  },
  {
   "cell_type": "markdown",
   "metadata": {},
   "source": [
    "Set up the problem"
   ]
  },
  {
   "cell_type": "code",
   "execution_count": null,
   "metadata": {},
   "outputs": [],
   "source": [
    "# define the range of the covariate 'x'\n",
    "x_exp = 0.5  # start point for x (a priori expectation)\n",
    "x_min = 0.0  # minimum allowed value of x\n",
    "x_max = 1.0  # maximum allowed value of x\n",
    "x_input=[(x_exp, x_min, x_max)]"
   ]
  },
  {
   "cell_type": "code",
   "execution_count": null,
   "metadata": {},
   "outputs": [],
   "source": [
    "# initialize class instance\n",
    "cc = CreativeProject(covars=x_input, model=\"Custom\", nu=2.5)"
   ]
  },
  {
   "cell_type": "markdown",
   "metadata": {},
   "source": [
    "Solve the problem"
   ]
  },
  {
   "cell_type": "code",
   "execution_count": null,
   "metadata": {},
   "outputs": [],
   "source": [
    "# run the auto-method\n",
    "cc.auto(response_samp_func=f, max_iter=21)"
   ]
  },
  {
   "cell_type": "markdown",
   "metadata": {},
   "source": [
    "Best guess after solving"
   ]
  },
  {
   "cell_type": "code",
   "execution_count": null,
   "metadata": {},
   "outputs": [],
   "source": [
    "cc.current_best()"
   ]
  },
  {
   "cell_type": "markdown",
   "metadata": {},
   "source": [
    "Plot the solution"
   ]
  },
  {
   "cell_type": "code",
   "execution_count": null,
   "metadata": {},
   "outputs": [],
   "source": [
    "cc.plot_1d_latest()"
   ]
  },
  {
   "cell_type": "code",
   "execution_count": null,
   "metadata": {},
   "outputs": [],
   "source": []
  }
 ],
 "metadata": {
  "kernelspec": {
   "display_name": "Python 3",
   "language": "python",
   "name": "python3"
  },
  "language_info": {
   "codemirror_mode": {
    "name": "ipython",
    "version": 3
   },
   "file_extension": ".py",
   "mimetype": "text/x-python",
   "name": "python",
   "nbconvert_exporter": "python",
   "pygments_lexer": "ipython3",
   "version": "3.8.5"
  }
 },
 "nbformat": 4,
 "nbformat_minor": 2
}
