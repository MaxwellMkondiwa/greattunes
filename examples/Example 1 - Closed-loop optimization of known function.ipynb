{
 "cells": [
  {
   "cell_type": "markdown",
   "metadata": {},
   "source": [
    "# Example 1: Closed-loop optimization of _known_ function\n",
    "\n",
    "In this notebook the framework is used to optimize a known function \n",
    "\n",
    "$$\n",
    "f(x) = - (6x - 2)^2 \\sin{(12 x - 4 )}, \\quad x \\in [0; 1].\n",
    "$$\n",
    "\n",
    "It is known that the function above has its maximum at $x^* = 0.75725$; the only covariate is $x$.\n",
    "\n",
    "\n",
    "## Framework approach\n",
    "\n",
    "With a known response function $f(x)$ the `.auto`-mode of the framework can be leveraged to find the optimum without involvement during the optimization process. This approach allows for closed-loop optimization and optimization of known functions.\n",
    "\n",
    "\n",
    "## Technical note\n",
    "\n",
    "Install"
   ]
  },
  {
   "cell_type": "code",
   "execution_count": null,
   "metadata": {},
   "outputs": [],
   "source": [
    "# Preamble\n"
   ]
  }
 ],
 "metadata": {
  "kernelspec": {
   "display_name": "Python 3",
   "language": "python",
   "name": "python3"
  },
  "language_info": {
   "codemirror_mode": {
    "name": "ipython",
    "version": 3
   },
   "file_extension": ".py",
   "mimetype": "text/x-python",
   "name": "python",
   "nbconvert_exporter": "python",
   "pygments_lexer": "ipython3",
   "version": "3.7.3"
  }
 },
 "nbformat": 4,
 "nbformat_minor": 2
}
