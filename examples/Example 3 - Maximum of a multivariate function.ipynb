{
 "cells": [
  {
   "cell_type": "markdown",
   "metadata": {},
   "source": [
    "# Example 3: Maximization of a multivariate function \n",
    "\n",
    "In this notebook the framework is used to optimize a function which depends on two variables $x_0$ and $x_1$. We illustrate both closed-loop and iterative approaches to solving the optimization problem using our framework. \n",
    "\n",
    "Similar to Example 2, we use here a known function to illustrate how the framework is applied, but it is not a requirement for the framework that the function can be written down explicitly as we do below. Hence, this option of using the framework allows for optimizing _unknown_ functions or _functions without explicit definitions_ and will come in handy for e.g. optimizing complex experiments. \n",
    "\n",
    "In the following we will maximize the Easom function, a classical optimization test function\n",
    "$$\n",
    "f(\\mathbf{x}) = - \\cos{(x_0)} \\, \\cos{(x_1)} \\, \\mathrm{e}^{-(x_0 - x_0^*)^2 - (x_1 - x_1^*)^2}, \\quad \\mathbf{x} = [x_0, x_1].\n",
    "$$\n",
    "\n",
    "It is known that the function above has its maximum at $\\mathbf{x}^* = (x_0^*, x_1^*)$ (typical values used for the minimum are $\\mathbf{x}^* = (\\pi, \\pi)$ but we will use $\\mathbf{x}^* = (0,0)$). For more on the Easom function, see this page [https://www.sfu.ca/~ssurjano/easom.html](https://www.sfu.ca/~ssurjano/easom.html).\n",
    "\n",
    "\n",
    "## Framework approach\n",
    "\n",
    "We will solve the problem in two different ways:\n",
    "1. using the closed-loop approach of the `.auto`-method\n",
    "2. using the iterative optimization approach of the framework which requires using the methods `.ask` and `.tell`. This approach allows for iterative optimization and optimization of any callable function, known or otherwise.\n",
    "\n",
    "The optimization process can be stopped after any number of iterations.\n",
    "\n",
    "\n",
    "## Technical note\n",
    "\n",
    "Installation of `torch` and `torchvision` (required dependencies) cannot be bundled as part of the `creative_project` installable. This is unfortunate, but a known issue it seems. Therefore these must be installed first, before installing `creative_project`."
   ]
  },
  {
   "cell_type": "markdown",
   "metadata": {},
   "source": [
    "### Get started: Import libraries"
   ]
  },
  {
   "cell_type": "code",
   "execution_count": null,
   "metadata": {},
   "outputs": [],
   "source": [
    "# Preamble\n",
    "\n",
    "# Install torch and torchvision. Use this link to identify the right versions to install on your system \n",
    "# depending on configuration: https://pytorch.org/get-started/locally/\n",
    "\n",
    "pip install torch==1.6.0+cpu torchvision==0.7.0+cpu -f https://download.pytorch.org/whl/torch_stable.html\n",
    "\n",
    "# Install creative_project from github (will require authentication with password)\n",
    "pip install --user https://github.com/svedel/kre8_core/"
   ]
  },
  {
   "cell_type": "code",
   "execution_count": null,
   "metadata": {},
   "outputs": [],
   "source": [
    "# import\n",
    "import numpy as np\n",
    "import torch\n",
    "from creative_project import CreativeProject\n",
    "import matplotlib.pyplot as plt\n",
    "%matplotlib inline"
   ]
  },
  {
   "cell_type": "markdown",
   "metadata": {},
   "source": [
    "### Setup the problem to be solved: define response function\n",
    "\n",
    "Define the problem to optimize. Here we define a known function and use both the closed-loop solution method based on the `.auto`-method which requires the function to be specified as well as the iterative approach using the `.ask` and `.tell` methods that can be applied to both specified and unspecified, but sample-able functions that cannot be written down."
   ]
  },
  {
   "cell_type": "code",
   "execution_count": null,
   "metadata": {},
   "outputs": [],
   "source": [
    "# define the function (negative of the Easom function)\n",
    "def neg_Easom(x):\n",
    "    return torch.cos(x[0]) * torch.cos(x[1]) * torch.exp(-(x[0] ** 2 + x[1] ** 2))\n",
    "\n",
    "x = torch.linspace(0,1)\n",
    "plt.figure(figsize=(8, 4))\n",
    "plt.plot(x.numpy(), neg_Easom(x).numpy())\n",
    "plt.show()"
   ]
  },
  {
   "cell_type": "markdown",
   "metadata": {},
   "source": [
    "Set up the problem"
   ]
  },
  {
   "cell_type": "code",
   "execution_count": null,
   "metadata": {},
   "outputs": [],
   "source": [
    "# define the range of interest\n",
    "x0_init = 1\n",
    "x1_init = -1\n",
    "covars2d = [(x0_init, -5, 5), (x1_init, -5, 5)]"
   ]
  },
  {
   "cell_type": "markdown",
   "metadata": {},
   "source": [
    "### Solution 1: Closed-loop solution approach using `.auto` method\n",
    "\n",
    "Instantiate the `CreativeProject` class and solve the problem"
   ]
  },
  {
   "cell_type": "code",
   "execution_count": null,
   "metadata": {},
   "outputs": [],
   "source": [
    "# initialize class instance\n",
    "cc = CreativeProject(covars=covars2d)\n",
    "\n",
    "# number of iterations\n",
    "max_iter = 20\n",
    "\n",
    "# run the auto-method\n",
    "cc.auto(response_samp_func=neg_Easom, max_iter=max_iter)"
   ]
  },
  {
   "cell_type": "markdown",
   "metadata": {},
   "source": [
    "Best guess after solving"
   ]
  },
  {
   "cell_type": "code",
   "execution_count": null,
   "metadata": {},
   "outputs": [],
   "source": [
    "# run current_best method\n",
    "cc.current_best()"
   ]
  },
  {
   "cell_type": "markdown",
   "metadata": {},
   "source": [
    "### Solution 2: Iterative solution using `.ask` and `.tell` methods\n",
    "\n",
    "Instantiate the `CreativeProject` class and solve the problem. In this case, we need to write our own loop to iterate. Notice that the `covars` and `response` variables are converted to `torch` tensors of size $1 \\times \\mathrm{\\#covariates}$ to store them in the instantiated class, where they are used for retraining the model at each iteration."
   ]
  },
  {
   "cell_type": "code",
   "execution_count": null,
   "metadata": {},
   "outputs": [],
   "source": [
    "# initialize the class instance\n",
    "cc2 = CreativeProject(covars=covars2d)\n",
    "\n",
    "# run the solution\n",
    "for i in range(max_iter):\n",
    "    # generate candidate\n",
    "    cc2.ask()\n",
    "\n",
    "    # sample response\n",
    "    covars = torch.tensor([[it.item() for it in cc2.proposed_X[-1]]], dtype=torch.double)\n",
    "    response = torch.tensor([[neg_Easom(cc2.proposed_X[-1]).item()]], dtype=torch.double)\n",
    "\n",
    "    # report response\n",
    "    cc2.tell(covars=covars, response=response)"
   ]
  },
  {
   "cell_type": "markdown",
   "metadata": {},
   "source": [
    "Best guess after solving"
   ]
  },
  {
   "cell_type": "code",
   "execution_count": null,
   "metadata": {},
   "outputs": [],
   "source": [
    "# run current_best method\n",
    "cc2.current_best()"
   ]
  }
 ],
 "metadata": {
  "kernelspec": {
   "display_name": "Python 3",
   "language": "python",
   "name": "python3"
  },
  "language_info": {
   "codemirror_mode": {
    "name": "ipython",
    "version": 3
   },
   "file_extension": ".py",
   "mimetype": "text/x-python",
   "name": "python",
   "nbconvert_exporter": "python",
   "pygments_lexer": "ipython3",
   "version": "3.7.3"
  }
 },
 "nbformat": 4,
 "nbformat_minor": 2
}
