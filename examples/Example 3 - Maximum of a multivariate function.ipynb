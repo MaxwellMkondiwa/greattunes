{
 "cells": [
  {
   "cell_type": "markdown",
   "metadata": {},
   "source": [
    "# Example 3: Maximization of a multivariate function \n",
    "\n",
    "In this notebook the framework is used to optimize a function which depends on two variables $x_0$ and $x_1$. We illustrate both closed-loop and iterative approaches to solving the optimization problem using our framework. \n",
    "\n",
    "Similar to Example 2, we use here a known function to illustrate how the framework is applied, but it is not a requirement for the framework that the function can be written down explicitly as we do below. Hence, this option of using the framework allows for optimizing _unknown_ functions or _functions without explicit definitions_ and will come in handy for e.g. optimizing complex experiments. \n",
    "\n",
    "In the following we will maximize the Easom function, a classical optimization test function\n",
    "$$\n",
    "f(\\mathbf{x}) = - \\cos{(x_0)} \\, \\cos{(x_1)} \\, \\mathrm{e}^{-(x_0 - x_0^*)^2 - (x_1 - x_1^*)^2}, \\quad \\mathbf{x} = [x_0, x_1].\n",
    "$$\n",
    "\n",
    "It is known that the function above has its maximum at $\\mathbf{x}^* = (x_0^*, x_1^*)$ (typical values used for the minimum are $\\mathbf{x}^* = (\\pi, \\pi)$ but we will use $\\mathbf{x}^* = (0,0)$). For more on the Easom function, see this page [https://www.sfu.ca/~ssurjano/easom.html](https://www.sfu.ca/~ssurjano/easom.html).\n",
    "\n",
    "\n",
    "## Framework approach\n",
    "\n",
    "We will solve the problem in three different ways:\n",
    "1. using the closed-loop approach of the `.auto`-method\n",
    "2. using the iterative optimization approach of the framework which requires using the methods `.ask` and `.tell`. This approach allows for iterative optimization and optimization of any callable function, known or otherwise.\n",
    "3. extending the problem to set $x_1$ to be an integer, and again trying to find the maximum. In this case, it should be harder to find the global maximum because it will come at a single value of $x_1$. We solve this problem using the `.auto`-method.\n",
    "\n",
    "The optimization process can be stopped after any number of iterations.\n",
    "\n",
    "\n",
    "## Technical note\n",
    "\n",
    "Installation of `torch` and `torchvision` (required dependencies) cannot be bundled as part of the `creative_project` installable. This is unfortunate, but a known issue it seems. Therefore these must be installed first, before installing `creative_project`."
   ]
  },
  {
   "cell_type": "markdown",
   "metadata": {},
   "source": [
    "### Get started: Import libraries"
   ]
  },
  {
   "cell_type": "code",
   "execution_count": null,
   "metadata": {},
   "outputs": [],
   "source": [
    "# Preamble\n",
    "\n",
    "# Install torch and torchvision. Use this link to identify the right versions to install on your system \n",
    "# depending on configuration: https://pytorch.org/get-started/locally/\n",
    "#\n",
    "#pip install torch==1.6.0+cpu torchvision==0.7.0+cpu -f https://download.pytorch.org/whl/torch_stable.html\n",
    "#\n",
    "# Install creative_project from github (will require authentication with password)\n",
    "#pip install --user https://github.com/svedel/kre8_core/\n",
    "! pip install --user greattunes"
   ]
  },
  {
   "cell_type": "code",
   "execution_count": null,
   "metadata": {},
   "outputs": [],
   "source": [
    "# import\n",
    "import pandas as pd\n",
    "import numpy as np\n",
    "import torch\n",
    "from greattunes import TuneSession\n",
    "import matplotlib.pyplot as plt\n",
    "%matplotlib inline"
   ]
  },
  {
   "cell_type": "markdown",
   "metadata": {},
   "source": [
    "### Setup the problem to be solved: define response function\n",
    "\n",
    "Define the problem to optimize. Here we define a known function and use both the closed-loop solution method based on the `.auto`-method which requires the function to be specified as well as the iterative approach using the `.ask` and `.tell` methods that can be applied to both specified and unspecified, but sample-able functions that cannot be written down."
   ]
  },
  {
   "cell_type": "code",
   "execution_count": null,
   "metadata": {},
   "outputs": [],
   "source": [
    "# define the function (negative of the Easom function)\n",
    "def neg_Easom(x):\n",
    "    covar0, covar1 = np.meshgrid(x[\"covar0\"].array, x[\"covar1\"].array)\n",
    "    return np.cos(covar0) * np.cos(covar1) * np.exp(-(covar0 ** 2 + covar1 ** 2))"
   ]
  },
  {
   "cell_type": "markdown",
   "metadata": {},
   "source": [
    "Defines the ranges of the problem to be solved, and sets initial guess"
   ]
  },
  {
   "cell_type": "code",
   "execution_count": null,
   "metadata": {},
   "outputs": [],
   "source": [
    "# limit on range\n",
    "covar_lim = 5\n",
    "\n",
    "# define the range of interest\n",
    "x0_init = 1.0\n",
    "x1_init = -1.0\n",
    "covars2d = [(x0_init, -covar_lim, covar_lim), (x1_init, -covar_lim, covar_lim)]"
   ]
  },
  {
   "cell_type": "markdown",
   "metadata": {},
   "source": [
    "Plots the response function"
   ]
  },
  {
   "cell_type": "code",
   "execution_count": null,
   "metadata": {},
   "outputs": [],
   "source": [
    "# a plot-friendly version of the objective function\n",
    "def plot_neg_Easom(x_vec):\n",
    "    xp, yp = np.meshgrid(x_vec, x_vec)\n",
    "    output = neg_Easom(pd.DataFrame({\"covar0\": x_vec, \"covar1\": x_vec}))\n",
    "    return xp, yp, output\n",
    "\n",
    "# generate the data for the figure\n",
    "x = np.linspace(-covar_lim,covar_lim,200)\n",
    "xp, yp, output = plot_neg_Easom(x)\n",
    "\n",
    "# Set up a figure twice as tall as it is wide\n",
    "fig = plt.figure(figsize=(12,6))  #plt.figaspect(2.)\n",
    "\n",
    "# First subplot\n",
    "ax = fig.add_subplot(1, 2, 1)\n",
    "ax.contourf(xp, yp, output, cmap=\"jet\")\n",
    "ax.set_xlabel(\"covar_0\")\n",
    "ax.set_ylabel(\"covar_1\")\n",
    "\n",
    "# Second subplot\n",
    "ax = fig.add_subplot(1, 2, 2, projection='3d')\n",
    "ax.plot_surface(xp, yp, output, rstride=1, cstride=1,linewidth=1, antialiased=False, shade=False, cmap=\"jet\")\n",
    "ax.set_xlabel(\"covar_0\")\n",
    "ax.set_ylabel(\"covar_1\")\n",
    "ax.set_zlabel(\"-Easom(covar_0, covar_1)\")\n",
    "\n",
    "plt.show()"
   ]
  },
  {
   "cell_type": "markdown",
   "metadata": {},
   "source": [
    "### Solution 1: Closed-loop solution approach using `.auto` method\n",
    "\n",
    "Instantiate the `TuneSession` class and solve the problem"
   ]
  },
  {
   "cell_type": "code",
   "execution_count": null,
   "metadata": {},
   "outputs": [],
   "source": [
    "# initialize class instance\n",
    "cc = TuneSession(covars=covars2d)\n",
    "\n",
    "# number of iterations\n",
    "max_iter = 20\n",
    "\n",
    "# run the auto-method\n",
    "cc.auto(response_samp_func=neg_Easom, max_iter=max_iter)"
   ]
  },
  {
   "cell_type": "markdown",
   "metadata": {},
   "source": [
    "Best guess after solving"
   ]
  },
  {
   "cell_type": "code",
   "execution_count": null,
   "metadata": {},
   "outputs": [],
   "source": [
    "# run current_best method\n",
    "cc.current_best()"
   ]
  },
  {
   "cell_type": "markdown",
   "metadata": {},
   "source": [
    "### Solution 2: Iterative solution using `.ask` and `.tell` methods\n",
    "\n",
    "Instantiate the `TuneSession` class and solve the problem. In this case, we need to write our own loop to iterate. Notice that the `covars` and `response` variables are converted to `torch` tensors of size $1 \\times \\mathrm{\\#covariates}$ to store them in the instantiated class, where they are used for retraining the model at each iteration."
   ]
  },
  {
   "cell_type": "code",
   "execution_count": null,
   "metadata": {},
   "outputs": [],
   "source": [
    "from greattunes.data_format_mappings import tensor2pretty_covariate\n",
    "\n",
    "# initialize the class instance\n",
    "cc2 = TuneSession(covars=covars2d)\n",
    "\n",
    "# run the solution\n",
    "for i in range(max_iter):\n",
    "    # generate candidate\n",
    "    cc2.ask()\n",
    "\n",
    "    # sample covariates and response\n",
    "    # tensor2pretty_covariate maps between the backend dataformat used by 'proposed_X' to the pandas-based format consumed by the response function\n",
    "    # the attribute 'covar_details' keeps information that maps backend and pandas (\"pretty\") dataformats\n",
    "    covars = tensor2pretty_covariate(train_X_sample=cc2.proposed_X[-1].reshape(1,2), covar_details=cc2.covar_details)\n",
    "    response = pd.DataFrame({\"Response\": [neg_Easom(covars)]})\n",
    "\n",
    "    # report response\n",
    "    cc2.tell(covar_obs=covars, response_obs=response)"
   ]
  },
  {
   "cell_type": "markdown",
   "metadata": {},
   "source": [
    "Best guess after solving"
   ]
  },
  {
   "cell_type": "code",
   "execution_count": null,
   "metadata": {},
   "outputs": [],
   "source": [
    "# run current_best method\n",
    "cc2.current_best()"
   ]
  },
  {
   "cell_type": "markdown",
   "metadata": {},
   "source": [
    "### Solution 3: Closed-loop solution via `.auto`, one of the covariates is an integer\n",
    "\n",
    "In addition to the continuous covariates explored so far, the framework also handles integer and categorical covariates.\n",
    "\n",
    "The framework determines the datatypes from the input provided in the tuple `covars` during class initialization, so it will assume a covariate is an integer if only integers are provided. Alternatively, `covars` can also be provided as a dict, which allows more control and transparency to users. We show how to use this in **Example XXX**\n",
    "\n",
    "For now, we instantiate the `TuneSession` class while switching the second covariate to be an integer and solve the problem using the closed-loop `.auto`-method."
   ]
  },
  {
   "cell_type": "code",
   "execution_count": null,
   "metadata": {},
   "outputs": [],
   "source": [
    "# define the range of interest\n",
    "x0_init = 1.0\n",
    "x1_init = -1\n",
    "covars2d_split = [(x0_init, -5, 5), (x1_init, -5, 5)]"
   ]
  },
  {
   "cell_type": "code",
   "execution_count": null,
   "metadata": {},
   "outputs": [],
   "source": [
    "# plot the function\n",
    "def plot_neg_Easom_split(x_vec):\n",
    "    xint = np.round(x_vec,0)\n",
    "    xp, yp = np.meshgrid(x_vec, xint)\n",
    "    output = neg_Easom(pd.DataFrame({\"covar0\": x_vec, \"covar1\": xint}))\n",
    "    return xp, yp, output\n",
    "\n",
    "xp_split, yp_split, output_split = plot_neg_Easom_split(x)\n",
    "\n",
    "# Set up a figure twice as tall as it is wide\n",
    "fig = plt.figure(figsize=(12,6))  #plt.figaspect(2.)\n",
    "\n",
    "# First subplot\n",
    "ax = fig.add_subplot(1, 2, 1)\n",
    "ax.contourf(xp_split, yp_split, output_split, cmap=\"jet\")\n",
    "ax.set_xlabel(\"covar_0 (continuous)\")\n",
    "ax.set_ylabel(\"covar_1 (integer)\")\n",
    "\n",
    "# Second subplot\n",
    "ax = fig.add_subplot(1, 2, 2, projection='3d')\n",
    "ax.plot_surface(xp_split, yp_split, output_split, rstride=1, cstride=1,linewidth=1, antialiased=False, shade=False, cmap=\"jet\")\n",
    "ax.set_xlabel(\"covar_0 (continuous)\")\n",
    "ax.set_ylabel(\"covar_1 (integer)\")\n",
    "ax.set_zlabel(\"-Easom(covar_0, covar_1)\")\n",
    "\n",
    "plt.show()"
   ]
  },
  {
   "cell_type": "code",
   "execution_count": null,
   "metadata": {},
   "outputs": [],
   "source": [
    "# initialize class instance\n",
    "cc3 = TuneSession(covars=covars2d_split)\n",
    "\n",
    "# number of iterations\n",
    "max_iter = 100\n",
    "\n",
    "# run the auto-method\n",
    "cc3.auto(response_samp_func=neg_Easom, max_iter=max_iter)"
   ]
  },
  {
   "cell_type": "markdown",
   "metadata": {},
   "source": [
    "Best guess after solving"
   ]
  },
  {
   "cell_type": "code",
   "execution_count": null,
   "metadata": {},
   "outputs": [],
   "source": [
    "# run current_best method\n",
    "cc3.current_best()"
   ]
  },
  {
   "cell_type": "code",
   "execution_count": null,
   "metadata": {},
   "outputs": [],
   "source": []
  }
 ],
 "metadata": {
  "kernelspec": {
   "display_name": "Python 3",
   "language": "python",
   "name": "python3"
  },
  "language_info": {
   "codemirror_mode": {
    "name": "ipython",
    "version": 3
   },
   "file_extension": ".py",
   "mimetype": "text/x-python",
   "name": "python",
   "nbconvert_exporter": "python",
   "pygments_lexer": "ipython3",
   "version": "3.8.5"
  }
 },
 "nbformat": 4,
 "nbformat_minor": 2
}
