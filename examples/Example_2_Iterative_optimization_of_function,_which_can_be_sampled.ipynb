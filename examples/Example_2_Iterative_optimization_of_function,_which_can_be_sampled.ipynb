{
 "cells": [
  {
   "cell_type": "markdown",
   "metadata": {},
   "source": [
    "# Example 2: Iterative optimization of a function, which can be sampled\n",
    "\n",
    "In this notebook the framework is used to iteratively optimize a function which can be sampled. For simplicity we will use a known function to illustrate, but it is not a requirement that the function can be written down explicitly as we do below. Hence, this option of using the framework allows for optimizing _unknown_ functions or _functions without explicit definitions_ and will come in handy for e.g. optimizing complex experiments. \n",
    "\n",
    "In the following we will use the same function as for Example 1\n",
    "$$\n",
    "f(x) = - (6x - 2)^2 \\sin{(12 x - 4 )}, \\quad x \\in [0; 1].\n",
    "$$\n",
    "\n",
    "It is known that the function above has its maximum at $x^* = 0.75725$; the only covariate is $x$.\n",
    "\n",
    "\n",
    "## Framework approach\n",
    "\n",
    "We will leverage the iterative optimization approach of the framework which requires using the methods `.ask` and `.tell`. This approach allows for iterative optimization and optimization of any callable function, known or otherwise.\n",
    "\n",
    "The optimization process can be stopped after any number of iterations.\n",
    "\n",
    "\n",
    "## Technical note\n",
    "\n",
    "Installation of `torch` and `torchvision` (required dependencies) cannot be bundled as part of the `creative_project` installable. This is unfortunate, but a known issue it seems. Therefore these must be installed first, before installing `creative_project`."
   ]
  },
  {
   "cell_type": "code",
   "execution_count": null,
   "metadata": {},
   "outputs": [],
   "source": [
    "# Preamble\n",
    "\n",
    "# Install torch and torchvision. Use this link to identify the right versions to install on your system \n",
    "# depending on configuration: https://pytorch.org/get-started/locally/\n",
    "\n",
    "pip install torch==1.6.0+cpu torchvision==0.7.0+cpu -f https://download.pytorch.org/whl/torch_stable.html\n",
    "\n",
    "# Install creative_project from github (will require authentication with password)\n",
    "pip install --user https://github.com/svedel/kre8_core/"
   ]
  },
  {
   "cell_type": "code",
   "execution_count": null,
   "metadata": {},
   "outputs": [],
   "source": [
    "# import\n",
    "import numpy as np\n",
    "import torch\n",
    "from creative_project import CreativeProject\n",
    "import matplotlib.pyplot as plt\n",
    "%matplotlib inline"
   ]
  },
  {
   "cell_type": "markdown",
   "metadata": {},
   "source": [
    "Define the problem to optimize. Here we define a known function, but it's not necessary that the function to optimize can be written down; all that's needed is that it can be sampled"
   ]
  },
  {
   "cell_type": "code",
   "execution_count": null,
   "metadata": {},
   "outputs": [],
   "source": [
    "def f(x):\n",
    "    return -(6*x - 2)**2*torch.sin(12*x-4)\n",
    "\n",
    "x = torch.linspace(0,1)\n",
    "plt.figure(figsize=(8, 4))\n",
    "plt.plot(x.numpy(), f(x).numpy())\n",
    "plt.show()"
   ]
  },
  {
   "cell_type": "markdown",
   "metadata": {},
   "source": [
    "Set up the problem"
   ]
  },
  {
   "cell_type": "code",
   "execution_count": null,
   "metadata": {},
   "outputs": [],
   "source": [
    "# define the range of the covariate 'x'\n",
    "x_exp = 0.5  # start point for x (a priori expectation)\n",
    "x_min = 0  # minimum allowed value of x\n",
    "x_max = 1  # maximum allowed value of x\n",
    "x_input=[(x_exp, x_min, x_max)]"
   ]
  },
  {
   "cell_type": "code",
   "execution_count": null,
   "metadata": {},
   "outputs": [],
   "source": [
    "# initialize class instance\n",
    "cc = CreativeProject(covars=x_input, model=\"Custom\", nu=2.5)"
   ]
  },
  {
   "cell_type": "markdown",
   "metadata": {},
   "source": [
    "Define the loop to solve iteratively. Here we use the option of adding the sampled covariates and associated response of the system (what we're using the function `f` for defined above) as input to `.tell`. If not added directly, `.tell` will prompt the user to provide sampled covariate points and responses at each iteration."
   ]
  },
  {
   "cell_type": "code",
   "execution_count": null,
   "metadata": {},
   "outputs": [],
   "source": [
    "# iteration limit\n",
    "max_iter = 21\n",
    "\n",
    "# run the solution\n",
    "for i in range(max_iter):\n",
    "\n",
    "    # generate candidate\n",
    "    cc.ask()\n",
    "\n",
    "    # sample response\n",
    "    covars = torch.tensor([[cc.proposed_X[-1].item()]], dtype=torch.double)\n",
    "    response = f(covars)\n",
    "\n",
    "    # report response\n",
    "    cc.tell(covars=covars, response=response)"
   ]
  },
  {
   "cell_type": "markdown",
   "metadata": {},
   "source": [
    "Best guess after solving"
   ]
  },
  {
   "cell_type": "code",
   "execution_count": null,
   "metadata": {},
   "outputs": [],
   "source": [
    "cc.current_best()"
   ]
  },
  {
   "cell_type": "markdown",
   "metadata": {},
   "source": [
    "Plot the solution"
   ]
  },
  {
   "cell_type": "code",
   "execution_count": null,
   "metadata": {},
   "outputs": [],
   "source": [
    "cc.plot_1d_latest()"
   ]
  }
 ],
 "metadata": {
  "kernelspec": {
   "display_name": "Python 3",
   "language": "python",
   "name": "python3"
  },
  "language_info": {
   "codemirror_mode": {
    "name": "ipython",
    "version": 3
   },
   "file_extension": ".py",
   "mimetype": "text/x-python",
   "name": "python",
   "nbconvert_exporter": "python",
   "pygments_lexer": "ipython3",
   "version": "3.7.3"
  }
 },
 "nbformat": 4,
 "nbformat_minor": 2
}
