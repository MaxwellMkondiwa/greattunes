{
 "cells": [
  {
   "cell_type": "markdown",
   "metadata": {},
   "source": [
    "# Example 4: Optimize a noisy multivariate system\n",
    "\n",
    "Bayesian optimization also works for stochastic response functions. Here we illustrate this for a noisy multivariate system by determining the maximal value.\n",
    "\n",
    "## Framework approach\n",
    "\n",
    "We will solve the problem in two different ways:\n",
    "1. using the closed-loop approach of the `.auto`-method\n",
    "2. using the iterative optimization approach of the framework which requires using the methods `.ask` and `.tell`. This approach allows for iterative optimization and optimization of any callable function, known or otherwise.\n",
    "\n",
    "The optimization process can be stopped after any number of iterations.\n",
    "\n",
    "\n",
    "## Technical note\n",
    "\n",
    "Installation of `torch` and `torchvision` (required dependencies) cannot be bundled as part of the `creative_project` installable. This is unfortunate, but a known issue it seems. Therefore these must be installed first, before installing `creative_project`."
   ]
  },
  {
   "cell_type": "markdown",
   "metadata": {},
   "source": [
    "### Get started: Import libraries"
   ]
  },
  {
   "cell_type": "code",
   "execution_count": null,
   "metadata": {},
   "outputs": [],
   "source": [
    "# Preamble\n",
    "\n",
    "# Install torch and torchvision. Use this link to identify the right versions to install on your system \n",
    "# depending on configuration: https://pytorch.org/get-started/locally/\n",
    "\n",
    "pip install torch==1.6.0+cpu torchvision==0.7.0+cpu -f https://download.pytorch.org/whl/torch_stable.html\n",
    "\n",
    "# Install creative_project from github (will require authentication with password)\n",
    "pip install --user https://github.com/svedel/kre8_core/"
   ]
  },
  {
   "cell_type": "code",
   "execution_count": null,
   "metadata": {},
   "outputs": [],
   "source": [
    "import torch\n",
    "import matplotlib.pyplot as plt\n",
    "import numpy as np"
   ]
  },
  {
   "cell_type": "markdown",
   "metadata": {},
   "source": [
    "### Set up the problem to be solved\n",
    "\n",
    "Here create a noisy multivariate function defined below for the input vector $\\mathbf{x} = (x_0, x_1)$\n",
    "\n",
    "$$\n",
    "f(\\mathbf{x}) = - \\frac{ (6 x_0 -2)^2 (6 x_1 -2)^2 \\, \\sin{(12 x_0- 4)} \\sin{(12 x_1 - 4)} }{250} + \\frac{1}{2 \\sigma^2 \\pi} \\mathrm{e}^{- \\left(\\frac{x_0 - 0.5}{\\sigma} \\right)^2 - \\left( \\frac{x_1 - 0.5}{\\sigma} \\right)^2 }   + \\xi \\quad , \\quad x_i \\in [0; 1], \\ i=0,1\n",
    "$$\n",
    "\n",
    "where $\\xi$ is random number drawn from a uniform distribution (range $[0; 1]$) and $\\sigma = 0.1$. This function has its average global maximum at $\\mathbf{x}^* = (0.5,0.5)$.\n"
   ]
  },
  {
   "cell_type": "code",
   "execution_count": null,
   "metadata": {},
   "outputs": [],
   "source": [
    "# define the function\n",
    "def f2_dup(x,y):\n",
    "    sigma = torch.tensor(0.1, dtype=torch.double)\n",
    "    return (-(6 * x - 2) ** 2 * torch.sin(12 * x - 4))*(-(6 * y - 2) ** 2 * torch.sin(12 * y - 4))/250 + 1/torch.sqrt(2*sigma**2*np.pi) * torch.exp(-((x-0.5)/sigma)**2 - ((y-0.5)/sigma)**2 ) + torch.rand(x.size())\n",
    "\n",
    "x = torch.linspace(0,1)\n",
    "x0_plot, x1_plot = torch.meshgrid(x, x)\n",
    "x_mg = torch.cat((torch.reshape(x0_plot, (10000, 1)), torch.reshape(x1_plot, (10000, 1))), dim=1)\n",
    "resp = f2_dup(x0_plot, x1_plot)\n",
    "\n",
    "\n",
    "fig = plt.figure(figsize=(8, 8))\n",
    "ax = fig.gca(projection='3d')\n",
    "\n",
    "surf = ax.plot_surface(x0_plot.numpy(), x1_plot.numpy(), resp.numpy())\n",
    "plt.show()"
   ]
  },
  {
   "cell_type": "markdown",
   "metadata": {},
   "source": [
    "Define the range for the covariates"
   ]
  },
  {
   "cell_type": "code",
   "execution_count": null,
   "metadata": {},
   "outputs": [],
   "source": [
    "# define the range of interest\n",
    "x0_init = 0.2\n",
    "x1_init = 0.8\n",
    "covars2d = [(x0_init, 0, 1), (x1_init, 0, 1)]"
   ]
  },
  {
   "cell_type": "markdown",
   "metadata": {},
   "source": [
    "### Solution 1: Closed-loop solution approach using `.auto` method\n",
    "\n",
    "Instantiate the `CreativeProject` class and solve the problem"
   ]
  },
  {
   "cell_type": "code",
   "execution_count": null,
   "metadata": {},
   "outputs": [],
   "source": [
    "# initialize class instance\n",
    "cc = CreativeProject(covars=covars2d)\n",
    "\n",
    "# number of iterations\n",
    "max_iter = 20\n",
    "\n",
    "# run the auto-method\n",
    "cc.auto(response_samp_func=f2_dup, max_iter=max_iter)"
   ]
  },
  {
   "cell_type": "markdown",
   "metadata": {},
   "source": [
    "**PLOT THE PATH TO OPTIMALITY**\n",
    "\n",
    "The best solution"
   ]
  },
  {
   "cell_type": "code",
   "execution_count": null,
   "metadata": {},
   "outputs": [],
   "source": [
    "# run current_best method\n",
    "cc.current_best()"
   ]
  },
  {
   "cell_type": "markdown",
   "metadata": {},
   "source": [
    "### Solution 2: Iterative solution using `.ask` and `.tell` methods\n",
    "\n",
    "Instantiate the `CreativeProject` class and solve the problem. In this case, we need to write our own loop to iterate. Notice that the `covars` and `response` variables are converted to `torch` tensors of size $1 \\times \\mathrm{\\#covariates}$ to store them in the instantiated class, where they are used for retraining the model at each iteration."
   ]
  },
  {
   "cell_type": "code",
   "execution_count": null,
   "metadata": {},
   "outputs": [],
   "source": [
    "# initialize the class instance\n",
    "cc2 = CreativeProject(covars=covars2d)\n",
    "\n",
    "# run the solution\n",
    "for i in range(max_iter):\n",
    "    # generate candidate\n",
    "    cc2.ask()\n",
    "\n",
    "    # sample response\n",
    "    covars = torch.tensor([[it.item() for it in cc2.proposed_X[-1]]], dtype=torch.double)\n",
    "    response = torch.tensor([[f2_dup(cc2.proposed_X[-1]).item()]], dtype=torch.double)\n",
    "\n",
    "    # report response\n",
    "    cc2.tell(covars=covars, response=response)"
   ]
  },
  {
   "cell_type": "markdown",
   "metadata": {},
   "source": [
    "Best guess after solving"
   ]
  },
  {
   "cell_type": "code",
   "execution_count": null,
   "metadata": {},
   "outputs": [],
   "source": [
    "# run current_best method\n",
    "cc2.current_best()"
   ]
  }
 ],
 "metadata": {
  "kernelspec": {
   "display_name": "Python 3",
   "language": "python",
   "name": "python3"
  },
  "language_info": {
   "codemirror_mode": {
    "name": "ipython",
    "version": 3
   },
   "file_extension": ".py",
   "mimetype": "text/x-python",
   "name": "python",
   "nbconvert_exporter": "python",
   "pygments_lexer": "ipython3",
   "version": "3.7.3"
  }
 },
 "nbformat": 4,
 "nbformat_minor": 2
}
